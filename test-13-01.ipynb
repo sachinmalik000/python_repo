{
 "cells": [
  {
   "cell_type": "code",
   "execution_count": 10,
   "id": "e8e33208-1bcb-47af-bab8-b26f66035cee",
   "metadata": {},
   "outputs": [
    {
     "name": "stdout",
     "output_type": "stream",
     "text": [
      "Occerence of each charcters a : 2\n",
      "Occerence of each charcters e : 2\n",
      "Occerence of each charcters g : 2\n",
      "Occerence of each charcters i : 2\n",
      "Occerence of each charcters o : 3\n",
      "Occerence of each charcters s : 2\n"
     ]
    }
   ],
   "source": [
    "chars = \"abcdefghijklmnopqrstuvwxyz\"\n",
    "\n",
    "check_str = \"This is on average good\"\n",
    "\n",
    "for c in chars:\n",
    "    \n",
    "  count = check_str.count(c)\n",
    "    \n",
    "  if count > 1:\n",
    "      \n",
    "    print(\"Occerence of each charcters\", c  , \":\", count)"
   ]
  },
  {
   "cell_type": "code",
   "execution_count": 8,
   "id": "b1afcb10-f075-43a1-80c4-bfcbad6ba150",
   "metadata": {},
   "outputs": [
    {
     "name": "stdout",
     "output_type": "stream",
     "text": [
      "File ending with .txt format  notes.txt\n",
      "File ending with .txt format  tasks.txt\n"
     ]
    }
   ],
   "source": [
    "# Write a Python program to filter out file names from a list that\n",
    "# have a .txt extension \n",
    "\n",
    "files = ['notes.txt', 'image.png', 'document.pdf', 'tasks.txt', 'report.doc']\n",
    "\n",
    "for i in files:\n",
    "\n",
    "    if i.endswith('.txt'):\n",
    "\n",
    "        print(f\"File ending with .txt format  {i}\")\n",
    "        \n"
   ]
  },
  {
   "cell_type": "code",
   "execution_count": 46,
   "id": "0c80ed5b-8f43-4bd1-abaf-2b64b0c74aba",
   "metadata": {},
   "outputs": [
    {
     "name": "stdout",
     "output_type": "stream",
     "text": [
      "<filter object at 0x000001F944B37D60> "
     ]
    }
   ],
   "source": [
    "# Write a Python program to filter out all palindromes from a list\n",
    "# ['radar', 'hello', 'level', 'world', 'madam', 'python'] of strings using the filter\n",
    "# function and list comprehension .\n",
    "\n",
    "\n",
    "my_list = ['radar', 'hello', 'level', 'world', 'madam', 'python'] \n",
    "\n",
    "def palindrome_test(list):\n",
    "\n",
    "    for i in list:\n",
    "\n",
    "        if i == i[::-1]:\n",
    "\n",
    "            print(i)\n",
    "\n",
    "    \n",
    "\n",
    "result = filter(palindrome_test , my_list)\n",
    "print(result, end= \" \")\n",
    "# palindrome_test(my_list)"
   ]
  },
  {
   "cell_type": "code",
   "execution_count": 32,
   "id": "d2562c81-bbef-48ea-890d-6e312f60aeac",
   "metadata": {},
   "outputs": [
    {
     "name": "stdout",
     "output_type": "stream",
     "text": [
      " Sum of list items : [50, 60, 70, 60, 70, 80, 70, 80, 90]\n"
     ]
    }
   ],
   "source": [
    "# Given two lists list1 = [10, 20, 30] and list2 = [40,\n",
    "# 50, 60], create a list of all possible sums of elements from both lists\n",
    "# using list comprehension.\n",
    "\n",
    "list1 = [10, 20, 30]\n",
    "list2 = [40,50, 60]\n",
    "sum=[e+i for e in list1 for i in list2]\n",
    "print(f\" Sum of list items : {sum}\")"
   ]
  },
  {
   "cell_type": "code",
   "execution_count": 34,
   "id": "1e23bce4-cc44-4981-a784-4403415293d1",
   "metadata": {},
   "outputs": [
    {
     "name": "stdout",
     "output_type": "stream",
     "text": [
      "gnillac nohtyp ni noitcnuf retlif\n"
     ]
    }
   ],
   "source": [
    "# Create a program that reverses each word in a user-provided\n",
    "# sentence while keeping the word order intact, anonymizing sensitive\n",
    "# information effectively.\n",
    "\n",
    "sentence = 'filter function in python calling'\n",
    "\n",
    "print(sentence[::-1])\n",
    "\n"
   ]
  },
  {
   "cell_type": "code",
   "execution_count": 42,
   "id": "5372e3d3-5dc1-4fa5-a148-36bc01c86985",
   "metadata": {},
   "outputs": [
    {
     "name": "stdout",
     "output_type": "stream",
     "text": [
      "['Ceiling Fan', 'Refrigrator', 'Laptop', 'Adaptor', 'Wires', 'RJ-45']\n"
     ]
    }
   ],
   "source": [
    "# Problem 10.Scenario: Inventory Management System\n",
    "\n",
    "products = [\"Ceiling Fan\", 'Refrigrator', 'Laptop', 'Adaptor', 'RJ-45']\n",
    "\n",
    "\n",
    "products.insert(-1,'Wires')\n",
    "\n",
    "print(products)"
   ]
  }
 ],
 "metadata": {
  "kernelspec": {
   "display_name": "Python 3 (ipykernel)",
   "language": "python",
   "name": "python3"
  },
  "language_info": {
   "codemirror_mode": {
    "name": "ipython",
    "version": 3
   },
   "file_extension": ".py",
   "mimetype": "text/x-python",
   "name": "python",
   "nbconvert_exporter": "python",
   "pygments_lexer": "ipython3",
   "version": "3.13.0"
  }
 },
 "nbformat": 4,
 "nbformat_minor": 5
}
